{
 "cells": [
  {
   "cell_type": "markdown",
   "metadata": {},
   "source": [
    "# Gram Schmidt - Standard"
   ]
  },
  {
   "cell_type": "code",
   "execution_count": 62,
   "metadata": {},
   "outputs": [
    {
     "data": {
      "text/plain": [
       "array([[1., 0., 0.],\n",
       "       [0., 1., 0.]])"
      ]
     },
     "execution_count": 62,
     "metadata": {},
     "output_type": "execute_result"
    }
   ],
   "source": [
    "import numpy as np\n",
    "\n",
    "def gram_schmidt(A):\n",
    "  # Setup\n",
    "  x = A\n",
    "  q = np.zeros((min(len(A), len(A[0])), len(A[0])))\n",
    "\n",
    "  # First basis vector\n",
    "  q[0] = x[0] / length_of_vector(x[0])\n",
    "\n",
    "  for i in range(1, len(x)):\n",
    "    # Calculate the vector to subtract\n",
    "    subtract_vector = np.zeros(len(A[0]))\n",
    "    for j in range(i):\n",
    "      subtract_vector += np.dot(x[i],q[j]) * q[j]\n",
    "\n",
    "    try:\n",
    "    # Create new basis by subtracting all progressions (calulated above)\n",
    "      q[i] = x[i] - subtract_vector\n",
    "    # Normalize by dividing by its length\n",
    "      q[i] = q[i] / length_of_vector(q[i])\n",
    "    except:\n",
    "      print(\"All basis already found\")\n",
    "\n",
    "  return q\n",
    "      \n",
    "def length_of_vector(vector):\n",
    "  \"\"\"Returns the length of the given vector\"\"\"\n",
    "  total = 0\n",
    "  for n in vector:\n",
    "    total += n ** 2\n",
    "  return np.sqrt(total)\n",
    "\n",
    "matrix = [[1,0,0],[1,2,0]]\n",
    "gram_schmidt(matrix)"
   ]
  }
 ],
 "metadata": {
  "kernelspec": {
   "display_name": "Python 3.8.8 ('base')",
   "language": "python",
   "name": "python3"
  },
  "language_info": {
   "codemirror_mode": {
    "name": "ipython",
    "version": 3
   },
   "file_extension": ".py",
   "mimetype": "text/x-python",
   "name": "python",
   "nbconvert_exporter": "python",
   "pygments_lexer": "ipython3",
   "version": "3.8.8"
  },
  "orig_nbformat": 4,
  "vscode": {
   "interpreter": {
    "hash": "ac6a79c52d88df0daa2f9c8643054c63b4d85efa37a82115302f340d6d358068"
   }
  }
 },
 "nbformat": 4,
 "nbformat_minor": 2
}
