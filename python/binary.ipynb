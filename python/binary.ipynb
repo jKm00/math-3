{
 "cells": [
  {
   "cell_type": "markdown",
   "metadata": {},
   "source": [
    "# Convert decimal to binary"
   ]
  },
  {
   "cell_type": "code",
   "execution_count": 19,
   "metadata": {},
   "outputs": [
    {
     "name": "stdout",
     "output_type": "stream",
     "text": [
      "[1, 0, 0, 0, 1, 1, 1, 0, 1]\n"
     ]
    }
   ],
   "source": [
    "def convertToBinary(number):\n",
    "  \"\"\"Converts whole numbers to binary\"\"\"\n",
    "  binary = [] # Init empty array\n",
    "  current_iteration = number\n",
    "  # Divid by two and store the rest in the array\n",
    "  # Reasign current iteration to the result when dividing by two\n",
    "  # Keep going til current iteration is zero\n",
    "  while current_iteration > 0:\n",
    "    result = current_iteration // 2\n",
    "    rest = current_iteration - (2 * result)\n",
    "    binary.append(rest)\n",
    "    current_iteration = result\n",
    "  # Revers the list before returning it\n",
    "  binary.reverse()\n",
    "  return binary\n",
    "\n",
    "print(convertToBinary(285))"
   ]
  }
 ],
 "metadata": {
  "kernelspec": {
   "display_name": "Python 3.9.13 64-bit (windows store)",
   "language": "python",
   "name": "python3"
  },
  "language_info": {
   "codemirror_mode": {
    "name": "ipython",
    "version": 3
   },
   "file_extension": ".py",
   "mimetype": "text/x-python",
   "name": "python",
   "nbconvert_exporter": "python",
   "pygments_lexer": "ipython3",
   "version": "3.9.13"
  },
  "orig_nbformat": 4,
  "vscode": {
   "interpreter": {
    "hash": "fa0e17ffa6e5697698eabc0d9bf0e610209003e790a1ca5255fe63b8f13b3a22"
   }
  }
 },
 "nbformat": 4,
 "nbformat_minor": 2
}
