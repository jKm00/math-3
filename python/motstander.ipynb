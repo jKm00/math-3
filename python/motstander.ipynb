{
 "cells": [
  {
   "cell_type": "markdown",
   "id": "6d1d5ae7",
   "metadata": {},
   "source": [
    "## Gauss-Seidel/Jacobi\n",
    "Vi har $n=100$ motstander med forskjellig konduktans $\\sigma_i$ koplet i serie med hverandre.\n",
    "Vi kjenner strømmen $I$ igjennom kretsen igjennom måling, og vil finne det elektriske potensialet $v_i$ på alle punkter i kretsen.\n",
    "Vi vet fra Ohms lov at dersom strømmen $I$ går igjennom en motstand med konduktans $\\sigma_i$ vil:\n",
    "$$ I = U_i \\cdot \\sigma_i = (v_i - v_{i+1})\\sigma_i $$\n",
    "Vi vet også at etter den siste motstanden vil det elektriske potensiale være lik 0 ( $v_{n+1} = 0$)\n",
    "\n",
    "Bruk Gauss-Seidel- eller jacobi-metoden til å bestemme potensialene $\\vec{v}$"
   ]
  },
  {
   "cell_type": "code",
   "execution_count": 4,
   "id": "c063381f",
   "metadata": {},
   "outputs": [
    {
     "name": "stdout",
     "output_type": "stream",
     "text": [
      "Error: 2.146971919348445\n",
      "Iterasjoner: 0\n"
     ]
    }
   ],
   "source": [
    "import numpy as np\n",
    "import random as r\n",
    "\n",
    "n = 100\n",
    "R = np.array([1+9*r.random() for i in range(n)]) #motstand\n",
    "sig = 1/R #konduktans sigma\n",
    "\n",
    "V = 120 #spenningsfall over hele serien (for å \"måle\" strømmen)\n",
    "I = V/(sum(R)) #Strøm \n",
    "v0 = np.zeros(n)\n",
    "tol = 10**-7\n",
    "b = np.ones(n)*I\n",
    "\n",
    "\n",
    "\n",
    "#Funksjon som gir matrise*vektor produktet for systemet vårt\n",
    "def Ax(x):\n",
    "    global sig\n",
    "    n = x.size\n",
    "    Ax = x.copy()\n",
    "    # Regn ut matrise vektorproduktet Ax for systemet vårt ---->\n",
    "    for i in range(n-1):\n",
    "        Ax[i] = sig[i] * x[i] - sig[i] * x[i+1]\n",
    "    Ax[n-1] = sig[n-1] * x[n-1]\n",
    "    #<-----------------\n",
    "    return Ax\n",
    "        \n",
    "        \n",
    "def GS(v0, tol, N):\n",
    "    global sig, b\n",
    "    r = b-Ax(v0)\n",
    "    err = np.linalg.norm(r)\n",
    "    it = 0\n",
    "    n=v0.size\n",
    "    while (err>tol and it < N ):\n",
    "        # Gauss-Seidel iterasjon----->\n",
    "        \n",
    "    \n",
    "    \n",
    "        #<----------------------------\n",
    "    return v0, err, it\n",
    "    \n",
    "v,err,its = GS(v0,tol, 3*n)\n",
    "print(f\"Error: {err}\")\n",
    "print(f\"Iterasjoner: {its}\")\n"
   ]
  }
 ],
 "metadata": {
  "kernelspec": {
   "display_name": "Python 3.8.3 ('base')",
   "language": "python",
   "name": "python3"
  },
  "language_info": {
   "codemirror_mode": {
    "name": "ipython",
    "version": 3
   },
   "file_extension": ".py",
   "mimetype": "text/x-python",
   "name": "python",
   "nbconvert_exporter": "python",
   "pygments_lexer": "ipython3",
   "version": "3.8.3"
  },
  "vscode": {
   "interpreter": {
    "hash": "e63d7e7218b5d61d8e35694d11b352ac9e42112b95da469c792f89ab831a2b0c"
   }
  }
 },
 "nbformat": 4,
 "nbformat_minor": 5
}
